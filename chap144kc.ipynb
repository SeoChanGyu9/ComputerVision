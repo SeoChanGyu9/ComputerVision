{
 "cells": [
  {
   "cell_type": "markdown",
   "metadata": {},
   "source": [
    "# 1.4.4 Smoothing Images"
   ]
  },
  {
   "cell_type": "markdown",
   "metadata": {},
   "source": [
    "## Kernel Convolution"
   ]
  },
  {
   "cell_type": "code",
   "execution_count": 1,
   "metadata": {},
   "outputs": [],
   "source": [
    "import cv2\n",
    "import numpy as np\n",
    "from matplotlib import pyplot as plt"
   ]
  },
  {
   "cell_type": "code",
   "execution_count": 2,
   "metadata": {},
   "outputs": [],
   "source": [
    "l=1\n",
    "kernel = np.array([[0,-1,0],[-1,4,-1],[0,-1,0]],np.float32)"
   ]
  },
  {
   "cell_type": "code",
   "execution_count": 3,
   "metadata": {},
   "outputs": [
    {
     "data": {
      "text/plain": [
       "array([[ 0., -1.,  0.],\n",
       "       [-1.,  4., -1.],\n",
       "       [ 0., -1.,  0.]], dtype=float32)"
      ]
     },
     "execution_count": 3,
     "metadata": {},
     "output_type": "execute_result"
    }
   ],
   "source": [
    "kernel #경계선찾는 기본커널"
   ]
  },
  {
   "cell_type": "code",
   "execution_count": 4,
   "metadata": {},
   "outputs": [],
   "source": [
    "img = np.random.randint(10, size=(12,12))\n",
    "#img = np.ones((10,10),np.float32)"
   ]
  },
  {
   "cell_type": "code",
   "execution_count": 5,
   "metadata": {},
   "outputs": [
    {
     "data": {
      "text/plain": [
       "array([[3, 2, 5, 1, 9, 1, 1, 9, 9, 5, 2, 5],\n",
       "       [5, 2, 7, 1, 6, 1, 6, 7, 9, 8, 1, 1],\n",
       "       [6, 9, 5, 5, 1, 1, 1, 3, 6, 1, 6, 7],\n",
       "       [7, 8, 3, 6, 1, 6, 2, 1, 9, 5, 4, 7],\n",
       "       [9, 0, 7, 5, 6, 8, 8, 6, 7, 9, 1, 8],\n",
       "       [6, 1, 1, 7, 8, 0, 1, 0, 1, 7, 4, 2],\n",
       "       [2, 2, 7, 8, 5, 9, 1, 5, 2, 3, 9, 3],\n",
       "       [9, 6, 4, 9, 9, 0, 8, 3, 0, 1, 7, 9],\n",
       "       [4, 6, 0, 3, 1, 7, 8, 5, 3, 1, 6, 6],\n",
       "       [4, 0, 4, 5, 0, 4, 8, 6, 3, 9, 6, 1],\n",
       "       [4, 4, 0, 7, 0, 3, 3, 6, 9, 8, 8, 0],\n",
       "       [9, 6, 6, 3, 2, 2, 2, 6, 4, 8, 0, 6]])"
      ]
     },
     "execution_count": 5,
     "metadata": {},
     "output_type": "execute_result"
    }
   ],
   "source": [
    "img"
   ]
  },
  {
   "cell_type": "code",
   "execution_count": 6,
   "metadata": {},
   "outputs": [],
   "source": [
    "h,w=img.shape"
   ]
  },
  {
   "cell_type": "code",
   "execution_count": 7,
   "metadata": {},
   "outputs": [
    {
     "name": "stdout",
     "output_type": "stream",
     "text": [
      "12 12\n"
     ]
    }
   ],
   "source": [
    "print(h,w)"
   ]
  },
  {
   "cell_type": "code",
   "execution_count": 8,
   "metadata": {},
   "outputs": [],
   "source": [
    "#[*range(-2,3)]"
   ]
  },
  {
   "cell_type": "code",
   "execution_count": 9,
   "metadata": {},
   "outputs": [],
   "source": [
    "dst = np.zeros((h,w),np.int)"
   ]
  },
  {
   "cell_type": "code",
   "execution_count": 10,
   "metadata": {},
   "outputs": [],
   "source": [
    "for i in range(l,h-l):\n",
    "    for j in range(l,w-l):\n",
    "        t=0\n",
    "        for p in range(-l,l+1):\n",
    "            for q in range(-l,l+1):\n",
    "                t += kernel[p+l,q+l]*img[i+p,j+q]\n",
    "        dst[i,j]=t        "
   ]
  },
  {
   "cell_type": "code",
   "execution_count": 11,
   "metadata": {},
   "outputs": [
    {
     "data": {
      "text/plain": [
       "array([[3, 2, 5, 1, 9, 1, 1, 9, 9, 5, 2, 5],\n",
       "       [5, 2, 7, 1, 6, 1, 6, 7, 9, 8, 1, 1],\n",
       "       [6, 9, 5, 5, 1, 1, 1, 3, 6, 1, 6, 7],\n",
       "       [7, 8, 3, 6, 1, 6, 2, 1, 9, 5, 4, 7],\n",
       "       [9, 0, 7, 5, 6, 8, 8, 6, 7, 9, 1, 8],\n",
       "       [6, 1, 1, 7, 8, 0, 1, 0, 1, 7, 4, 2],\n",
       "       [2, 2, 7, 8, 5, 9, 1, 5, 2, 3, 9, 3],\n",
       "       [9, 6, 4, 9, 9, 0, 8, 3, 0, 1, 7, 9],\n",
       "       [4, 6, 0, 3, 1, 7, 8, 5, 3, 1, 6, 6],\n",
       "       [4, 0, 4, 5, 0, 4, 8, 6, 3, 9, 6, 1],\n",
       "       [4, 4, 0, 7, 0, 3, 3, 6, 9, 8, 8, 0],\n",
       "       [9, 6, 6, 3, 2, 2, 2, 6, 4, 8, 0, 6]])"
      ]
     },
     "execution_count": 11,
     "metadata": {},
     "output_type": "execute_result"
    }
   ],
   "source": [
    "img"
   ]
  },
  {
   "cell_type": "code",
   "execution_count": 12,
   "metadata": {},
   "outputs": [
    {
     "data": {
      "text/plain": [
       "array([[  0,   0,   0,   0,   0,   0,   0,   0,   0,   0,   0,   0],\n",
       "       [  0, -15,  15, -15,  12, -10,  14,   1,   6,  16, -13,   0],\n",
       "       [  0,  15,  -4,   7,  -9,  -5,  -8,  -3,   2, -21,  11,   0],\n",
       "       [  0,  13, -14,  10, -15,  12,  -8, -16,  17,  -3,  -3,   0],\n",
       "       [  0, -25,  19,  -6,   2,  12,  15,   8,   3,  16, -21,   0],\n",
       "       [  0,  -5, -18,   6,  14, -26,  -5, -13, -12,  11,  -3,   0],\n",
       "       [  0,  -8,  13,   4, -14,  30, -19,  14,  -1,  -7,  19,   0],\n",
       "       [  0,   3,  -6,  12,  21, -33,  20,  -6,  -9,  -7,   3,   0],\n",
       "       [  0,  14, -17,  -3, -15,  15,   4,   0,   3, -15,   4,   0],\n",
       "       [  0, -18,  11,   6, -10,  -2,  11,   2, -15,  18,   0,   0],\n",
       "       [  0,   6, -21,  20, -12,   3,  -7,   0,  15,  -2,  18,   0],\n",
       "       [  0,   0,   0,   0,   0,   0,   0,   0,   0,   0,   0,   0]])"
      ]
     },
     "execution_count": 12,
     "metadata": {},
     "output_type": "execute_result"
    }
   ],
   "source": [
    "dst"
   ]
  },
  {
   "cell_type": "code",
   "execution_count": 13,
   "metadata": {},
   "outputs": [],
   "source": [
    "img = cv2.imread('lena.png', 0)"
   ]
  },
  {
   "cell_type": "code",
   "execution_count": 14,
   "metadata": {},
   "outputs": [],
   "source": [
    "h,w=img.shape"
   ]
  },
  {
   "cell_type": "code",
   "execution_count": 15,
   "metadata": {},
   "outputs": [],
   "source": [
    "dst = np.zeros((h-2*l,w-2*l),np.uint8)"
   ]
  },
  {
   "cell_type": "code",
   "execution_count": 16,
   "metadata": {},
   "outputs": [],
   "source": [
    "for i in range(l,h-l):\n",
    "    for j in range(l,w-l):\n",
    "        t=0\n",
    "        for p in range(-l,l+1):\n",
    "            for q in range(-l,l+1):\n",
    "                t += kernel[p+l,q+l]*img[i+p,j+q]\n",
    "        dst[i-l,j-l]=t "
   ]
  },
  {
   "cell_type": "code",
   "execution_count": 18,
   "metadata": {},
   "outputs": [],
   "source": [
    "cv2.imshow('img',img)\n",
    "cv2.imshow('dst',dst)\n",
    "cv2.waitKey(0)\n",
    "cv2.destroyAllWindows()"
   ]
  },
  {
   "cell_type": "code",
   "execution_count": null,
   "metadata": {},
   "outputs": [],
   "source": []
  }
 ],
 "metadata": {
  "kernelspec": {
   "display_name": "Python 3",
   "language": "python",
   "name": "python3"
  },
  "language_info": {
   "codemirror_mode": {
    "name": "ipython",
    "version": 3
   },
   "file_extension": ".py",
   "mimetype": "text/x-python",
   "name": "python",
   "nbconvert_exporter": "python",
   "pygments_lexer": "ipython3",
   "version": "3.7.7"
  }
 },
 "nbformat": 4,
 "nbformat_minor": 4
}
