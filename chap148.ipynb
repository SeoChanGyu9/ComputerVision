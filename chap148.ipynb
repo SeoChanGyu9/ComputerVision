{
 "cells": [
  {
   "cell_type": "markdown",
   "metadata": {},
   "source": [
    "# 1.4.8 Image Pyramids"
   ]
  },
  {
   "cell_type": "code",
   "execution_count": 1,
   "metadata": {},
   "outputs": [],
   "source": [
    "import cv2\n",
    "import numpy as np\n",
    "\n",
    "img = cv2.imread('sIMG3.jpg')\n",
    "img1 = cv2.pyrDown(img)\n",
    "img2 = cv2.pyrDown(img1)\n",
    "\n",
    "cv2.imshow('image',img)\n",
    "cv2.imshow('image1',img1)\n",
    "cv2.imshow('image2',img2)\n",
    "cv2.waitKey(0)\n",
    "cv2.destroyAllWindows()"
   ]
  },
  {
   "cell_type": "code",
   "execution_count": 2,
   "metadata": {},
   "outputs": [],
   "source": [
    "edges = cv2.Canny(img, 100, 200)\n",
    "edges1 = cv2.Canny(img1, 100, 200)\n",
    "edges2 = cv2.Canny(img2, 100, 200)\n",
    "\n",
    "cv2.imshow('image',edges)\n",
    "cv2.imshow('image1',edges1)\n",
    "cv2.imshow('image2',edges2)\n",
    "cv2.waitKey(0)\n",
    "cv2.destroyAllWindows()"
   ]
  },
  {
   "cell_type": "code",
   "execution_count": 3,
   "metadata": {},
   "outputs": [],
   "source": [
    "edges21 = cv2.pyrUp(edges2)\n",
    "edges20 = cv2.pyrUp(edges21)\n",
    "cv2.imshow('image',edges2)\n",
    "cv2.imshow('image1',edges21)\n",
    "cv2.imshow('image2',edges20)\n",
    "cv2.waitKey(0)\n",
    "cv2.destroyAllWindows()"
   ]
  },
  {
   "cell_type": "code",
   "execution_count": 4,
   "metadata": {},
   "outputs": [],
   "source": [
    "cv2.imshow('image',edges)\n",
    "cv2.imshow('image2',edges20)\n",
    "cv2.waitKey(0)\n",
    "cv2.destroyAllWindows()"
   ]
  }
 ],
 "metadata": {
  "kernelspec": {
   "display_name": "Python 3",
   "language": "python",
   "name": "python3"
  },
  "language_info": {
   "codemirror_mode": {
    "name": "ipython",
    "version": 3
   },
   "file_extension": ".py",
   "mimetype": "text/x-python",
   "name": "python",
   "nbconvert_exporter": "python",
   "pygments_lexer": "ipython3",
   "version": "3.7.7"
  }
 },
 "nbformat": 4,
 "nbformat_minor": 4
}
